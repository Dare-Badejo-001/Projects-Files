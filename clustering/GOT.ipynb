{
 "cells": [
  {
   "cell_type": "code",
   "execution_count": 2,
   "metadata": {},
   "outputs": [],
   "source": [
    "import numpy as np \n",
    "import pandas as pd \n",
    "import matplotlib.pyplot as plt \n",
    "%matplotlib inline \n",
    "import seaborn as sns \n",
    "from collections import defaultdict\n",
    "import networkx as nx \n",
    "#import nxviz as nxv \n",
    "import community \n",
    "import requests \n",
    "import json     \n",
    "import time \n"
   ]
  },
  {
   "cell_type": "code",
   "execution_count": 3,
   "metadata": {},
   "outputs": [
    {
     "name": "stdout",
     "output_type": "stream",
     "text": [
      "Finally 2124 characters fetched from the API\n"
     ]
    }
   ],
   "source": [
    "url = \"https://www.anapioficeandfire.com/api/characters?page=%25d&pageSize=100\"\n",
    "DELAY = 1 \n",
    "\n",
    "chars = [] \n",
    "final_chars = [] \n",
    "\n",
    "for page in range(1,50): \n",
    "    r = requests.get(url % page)\n",
    "    new_chars = r.json() \n",
    "    if len(new_chars) == 0:\n",
    "        break \n",
    "    chars.extend(new_chars) \n",
    "    time.sleep(DELAY) \n",
    "\n",
    "\n",
    "for char in chars: \n",
    "    if len(char['name']) > 0 : \n",
    "        final_chars.append(char) \n",
    "\n",
    "print(\"Finally %d characters fetched from the API\" % len(final_chars))\n",
    "\n"
   ]
  },
  {
   "cell_type": "code",
   "execution_count": 5,
   "metadata": {},
   "outputs": [
    {
     "data": {
      "text/plain": [
       "Index(['url', 'name', 'gender', 'culture', 'born', 'died', 'titles', 'aliases',\n",
       "       'father', 'mother', 'spouse', 'allegiances', 'books', 'povBooks',\n",
       "       'tvSeries', 'playedBy'],\n",
       "      dtype='object')"
      ]
     },
     "execution_count": 5,
     "metadata": {},
     "output_type": "execute_result"
    }
   ],
   "source": [
    "df = pd.DataFrame(final_chars) \n",
    "df.columns"
   ]
  },
  {
   "cell_type": "code",
   "execution_count": null,
   "metadata": {},
   "outputs": [],
   "source": [
    "# The nodes dataset contains ID, name and gender\n",
    "nodes = \n",
    "\n",
    "edges ="
   ]
  },
  {
   "cell_type": "code",
   "execution_count": null,
   "metadata": {},
   "outputs": [],
   "source": [
    "def create_graph(nodes, edges) : \n",
    "    g = nx.Graph() \n",
    "    for i, row in edges.itterrows(): \n",
    "        keys = row.index.tolist() \n",
    "        values = row.values \n",
    "        g.add_edge(row['Source'], row['Target'], **dict(zip(keys, values)))\n",
    "\n",
    "    for i,row in nodes.iterrows(): \n",
    "        keys = row.index.tolist() \n",
    "        values = row.values\n",
    "        g.add_node(row['Id'], **dict(zip(keys, values)) ) \n",
    "    \n",
    "    return g \n",
    "\n",
    "g = create_graph(nodes, edges) \n",
    "                   "
   ]
  },
  {
   "cell_type": "markdown",
   "metadata": {},
   "source": []
  }
 ],
 "metadata": {
  "kernelspec": {
   "display_name": "base",
   "language": "python",
   "name": "python3"
  },
  "language_info": {
   "codemirror_mode": {
    "name": "ipython",
    "version": 3
   },
   "file_extension": ".py",
   "mimetype": "text/x-python",
   "name": "python",
   "nbconvert_exporter": "python",
   "pygments_lexer": "ipython3",
   "version": "3.8.8"
  }
 },
 "nbformat": 4,
 "nbformat_minor": 2
}
