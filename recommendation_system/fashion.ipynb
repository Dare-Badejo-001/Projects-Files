{
 "cells": [
  {
   "cell_type": "code",
   "execution_count": 1,
   "metadata": {},
   "outputs": [],
   "source": [
    "from zipfile import ZipFile\n",
    "import os \n",
    "\n",
    "zip_file_path ='women-fashion.zip'\n",
    "extraction_directory = 'women-fashion'"
   ]
  },
  {
   "cell_type": "code",
   "execution_count": 2,
   "metadata": {},
   "outputs": [
    {
     "name": "stdout",
     "output_type": "stream",
     "text": [
      "['women fashion', '__MACOSX']\n"
     ]
    }
   ],
   "source": [
    "if not os.path.exists(extraction_directory):\n",
    "    os.makedirs(extraction_directory)\n",
    "\n",
    "with ZipFile(zip_file_path, 'r') as zip_ref: \n",
    "    zip_ref.extractall(extraction_directory) \n",
    "\n",
    "extracted_files = os.listdir(extraction_directory)\n",
    "print(extracted_files[:10])"
   ]
  },
  {
   "cell_type": "code",
   "execution_count": 3,
   "metadata": {},
   "outputs": [
    {
     "data": {
      "text/plain": [
       "(['white knee-length dress with a fitted design and long sleeves.webp',\n",
       "  'short, white, sleeveless dress with thin straps.jpg',\n",
       "  'deep burgundy, silky dress with long sleeves and a wrap-style front.jpg',\n",
       "  'long, intricately designed dress with full sleeves.jpg',\n",
       "  'beige top adorned with black dots and a green skirt.jpg',\n",
       "  'form-fitting dress with a vibrant pattern of yellow, blue, and black.jpg',\n",
       "  'black top, white trousers.jpg',\n",
       "  'ark green, knee-length dress with short sleeves and a white, patterned neckline.jpg',\n",
       "  'metallic-looking jacket with intricate designs and fringes hanging from the sleeves.jpg',\n",
       "  'anarkali suit with intricate silver embellishments on the neckline, sleeves.jpg'],\n",
       " 97)"
      ]
     },
     "execution_count": 3,
     "metadata": {},
     "output_type": "execute_result"
    }
   ],
   "source": [
    "# correcting the path to include the 'women fashion' directory and listing its contents\n",
    "extraction_directory_updated = os.path.join(extraction_directory, 'women fashion')\n",
    "\n",
    "# list the files in the updated directory\n",
    "extracted_files_updated = os.listdir(extraction_directory_updated)\n",
    "extracted_files_updated[:10], len(extracted_files_updated)"
   ]
  },
  {
   "cell_type": "code",
   "execution_count": null,
   "metadata": {},
   "outputs": [],
   "source": [
    "from PIL import Image\n",
    "import matplotlib.pyplot as plt\n",
    "\n",
    "# function to load and display an image\n",
    "def display_image(file_path):\n",
    "    image = Image.open(file_path)\n",
    "    plt.imshow(image)\n",
    "    plt.axis('off')\n",
    "    plt.show()\n",
    "\n",
    "# display the first image to understand its characteristics\n",
    "first_image_path = os.path.join(extraction_directory_updated, extracted_files_updated[0])\n",
    "display_image(first_image_path)"
   ]
  },
  {
   "cell_type": "code",
   "execution_count": null,
   "metadata": {},
   "outputs": [],
   "source": [
    "import glob\n",
    "\n",
    "# directory path containing your images\n",
    "image_directory = '/content/women_fashion/women fashion'\n",
    "\n",
    "image_paths_list = [file for file in glob.glob(os.path.join(image_directory, '*.*')) if file.endswith(('.jpg', '.png', '.jpeg', 'webp'))]\n",
    "\n",
    "# print the list of image file paths\n",
    "print(image_paths_list)"
   ]
  },
  {
   "cell_type": "code",
   "execution_count": null,
   "metadata": {},
   "outputs": [],
   "source": [
    "from tensorflow.keras.preprocessing import image\n",
    "from tensorflow.keras.applications.vgg16 import VGG16, preprocess_input\n",
    "from tensorflow.keras.applications.vgg16 import preprocess_input\n",
    "from tensorflow.keras.models import Model\n",
    "import numpy as np\n",
    "\n",
    "base_model = VGG16(weights='imagenet', include_top=False)\n",
    "model = Model(inputs=base_model.input, outputs=base_model.output)\n",
    "\n",
    "def preprocess_image(img_path):\n",
    "    img = image.load_img(img_path, target_size=(224, 224))\n",
    "    img_array = image.img_to_array(img)\n",
    "    img_array_expanded = np.expand_dims(img_array, axis=0)\n",
    "    return preprocess_input(img_array_expanded)\n",
    "\n",
    "def extract_features(model, preprocessed_img):\n",
    "    features = model.predict(preprocessed_img)\n",
    "    flattened_features = features.flatten()\n",
    "    normalized_features = flattened_features / np.linalg.norm(flattened_features)\n",
    "    return normalized_features\n",
    "\n",
    "all_features = []\n",
    "all_image_names = []\n",
    "\n",
    "for img_path in image_paths_list:\n",
    "    preprocessed_img = preprocess_image(img_path)\n",
    "    features = extract_features(model, preprocessed_img)\n",
    "    all_features.append(features)\n",
    "    all_image_names.append(os.path.basename(img_path))"
   ]
  },
  {
   "cell_type": "code",
   "execution_count": null,
   "metadata": {},
   "outputs": [],
   "source": [
    "from scipy.spatial.distance import cosine\n",
    "\n",
    "def recommend_fashion_items_cnn(input_image_path, all_features, all_image_names, model, top_n=5):\n",
    "    # pre-process the input image and extract features\n",
    "    preprocessed_img = preprocess_image(input_image_path)\n",
    "    input_features = extract_features(model, preprocessed_img)\n",
    "\n",
    "    # calculate similarities and find the top N similar images\n",
    "    similarities = [1 - cosine(input_features, other_feature) for other_feature in all_features]\n",
    "    similar_indices = np.argsort(similarities)[-top_n:]\n",
    "\n",
    "    # filter out the input image index from similar_indices\n",
    "    similar_indices = [idx for idx in similar_indices if idx != all_image_names.index(input_image_path)]\n",
    "\n",
    "    # display the input image\n",
    "    plt.figure(figsize=(15, 10))\n",
    "    plt.subplot(1, top_n + 1, 1)\n",
    "    plt.imshow(Image.open(input_image_path))\n",
    "    plt.title(\"Input Image\")\n",
    "    plt.axis('off')\n",
    "\n",
    "    # display similar images\n",
    "    for i, idx in enumerate(similar_indices[:top_n], start=1):\n",
    "        image_path = os.path.join('/content/women_fashion/women fashion', all_image_names[idx])\n",
    "        plt.subplot(1, top_n + 1, i + 1)\n",
    "        plt.imshow(Image.open(image_path))\n",
    "        plt.title(f\"Recommendation {i}\")\n",
    "        plt.axis('off')\n",
    "\n",
    "    plt.tight_layout()\n",
    "    plt.show()"
   ]
  },
  {
   "cell_type": "code",
   "execution_count": null,
   "metadata": {},
   "outputs": [],
   "source": [
    "input_image_path = '/content/women_fashion/women fashion/dark, elegant, sleeveless dress that reaches down to about mid-calf.jpg'\n",
    "recommend_fashion_items_cnn(input_image_path, all_features, image_paths_list, model, top_n=4)"
   ]
  },
  {
   "cell_type": "code",
   "execution_count": null,
   "metadata": {},
   "outputs": [],
   "source": []
  },
  {
   "cell_type": "code",
   "execution_count": null,
   "metadata": {},
   "outputs": [],
   "source": []
  }
 ],
 "metadata": {
  "kernelspec": {
   "display_name": "base",
   "language": "python",
   "name": "python3"
  },
  "language_info": {
   "codemirror_mode": {
    "name": "ipython",
    "version": 3
   },
   "file_extension": ".py",
   "mimetype": "text/x-python",
   "name": "python",
   "nbconvert_exporter": "python",
   "pygments_lexer": "ipython3",
   "version": "3.8.8"
  }
 },
 "nbformat": 4,
 "nbformat_minor": 2
}
