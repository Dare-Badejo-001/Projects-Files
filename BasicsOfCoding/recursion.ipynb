{
 "cells": [
  {
   "cell_type": "code",
   "execution_count": 1,
   "metadata": {},
   "outputs": [
    {
     "name": "stdout",
     "output_type": "stream",
     "text": [
      "120\n"
     ]
    }
   ],
   "source": [
    "def factorial(n): \n",
    "    if n==0 : \n",
    "        return 1 \n",
    "    else: \n",
    "        return n* factorial(n-1) \n",
    "\n",
    "result = factorial(5) \n",
    "print(result) "
   ]
  },
  {
   "cell_type": "code",
   "execution_count": 2,
   "metadata": {},
   "outputs": [
    {
     "name": "stdout",
     "output_type": "stream",
     "text": [
      "8\n"
     ]
    }
   ],
   "source": [
    "def fibonacci(n): \n",
    "    if n <= 1: \n",
    "        return n \n",
    "    else: \n",
    "        return fibonacci(n-1) + fibonacci(n-2) \n",
    "\n",
    "result = fibonacci(6) \n",
    "print(result) "
   ]
  },
  {
   "cell_type": "code",
   "execution_count": 3,
   "metadata": {},
   "outputs": [
    {
     "name": "stdout",
     "output_type": "stream",
     "text": [
      "15\n"
     ]
    }
   ],
   "source": [
    "# sum of digits \n",
    "'''\n",
    "This recursive function calculates the sum of digits in a given number.\n",
    "The base case is when n becomes 0, returning 0.\n",
    "It adds the last digit of n to the sum of digits of n // 10 (integer division) recursively.\n",
    "'''\n",
    "def sum_of_digits(n) : \n",
    "    if n == 0 : \n",
    "        return 0 \n",
    "    else: \n",
    "        return n % 10 + sum_of_digits(n//10) \n",
    "\n",
    "result = sum_of_digits(12345) \n",
    "print(result)"
   ]
  },
  {
   "cell_type": "code",
   "execution_count": 4,
   "metadata": {},
   "outputs": [
    {
     "name": "stdout",
     "output_type": "stream",
     "text": [
      "8\n"
     ]
    }
   ],
   "source": [
    "'''\n",
    "This recursive function calculates the power of a number (base) to an exponent.\n",
    "The base case is when the exponent is 0, returning 1.\n",
    "It multiplies the base with the result of recursively calculating base to the exponent - 1\n",
    "'''\n",
    "\n",
    "def power(base, exponent): \n",
    "    if exponent == 0 : \n",
    "        return 1\n",
    "    else : \n",
    "        return base * power(base, exponent-1)\n",
    "\n",
    "\n",
    "result = power(2,3) \n",
    "print(result)"
   ]
  },
  {
   "cell_type": "code",
   "execution_count": 5,
   "metadata": {},
   "outputs": [
    {
     "name": "stdout",
     "output_type": "stream",
     "text": [
      "5\n"
     ]
    }
   ],
   "source": [
    "# Binary Search \n",
    "''' \n",
    "This recursive function performs a binary search in a sorted array.\n",
    "It searches for the target in the specified range (low to high) recursively.\n",
    "If the middle element is the target, it returns the index. Otherwise, it continues the search in the appropriate half.\n",
    "'''\n",
    "def binary_search(arr, low, high, target): \n",
    "    if high >= low : # if the high pointer is greater than the low pointer\n",
    "        mid = (low + high) // 2 \n",
    "        if arr[mid] == target :  # if the array in the mid pointer is equal to target return the mid pointer \n",
    "            return mid \n",
    "        elif arr[mid] > target: # if the array in the mid pointer is greater than target then search between the lower half of array \n",
    "            return binary_search(arr, low, mid-1, target)\n",
    "        else : # the mid pointer will be less than the target now we search between the upper half of array \n",
    "            return binary_search(arr, mid + 1, high, target) \n",
    "    else: \n",
    "        return -1 \n",
    "\n",
    "arr = [x for x in range(17) if x %2 == 0 ]\n",
    "target = 10 \n",
    "result = binary_search(arr,0,len(arr)-1, target) \n",
    "print(result) \n"
   ]
  },
  {
   "cell_type": "code",
   "execution_count": 7,
   "metadata": {},
   "outputs": [
    {
     "name": "stdout",
     "output_type": "stream",
     "text": [
      "move disk 1 from A to C\n",
      "move disk 2 from A to B\n",
      "move disk 1 from C to B\n",
      "move disk 3 from A to C\n",
      "move disk 1 from B to A\n",
      "move disk 2 from B to C\n",
      "move disk 1 from A to C\n"
     ]
    }
   ],
   "source": [
    "# Tower of Honai \n",
    "'''\n",
    "This recursive function solves the Tower of Hanoi puzzle for n disks.\n",
    "It moves n-1 disks from the source to the auxiliary peg, then moves the largest disk to the target peg, and finally moves the n-1 disks from the auxiliary peg to the target peg \n",
    "'''\n",
    "\n",
    "def tower_of_hanoi (n, source, target, auxiliary): \n",
    "    if n == 1 : \n",
    "        print(f\"move disk 1 from {source} to {target}\")\n",
    "    else: \n",
    "        tower_of_hanoi(n-1, source, auxiliary, target) \n",
    "        print(f\"move disk {n} from {source} to {target}\")\n",
    "        tower_of_hanoi(n-1, auxiliary, target, source) \n",
    "\n",
    "tower_of_hanoi(3, 'A', 'C', 'B')"
   ]
  },
  {
   "cell_type": "code",
   "execution_count": 8,
   "metadata": {},
   "outputs": [
    {
     "name": "stdout",
     "output_type": "stream",
     "text": [
      "15\n"
     ]
    }
   ],
   "source": [
    "def sum_list(arr): \n",
    "    if not arr:\n",
    "        return 0 \n",
    "    else: \n",
    "        return arr[0] + sum_list(arr[1:])\n",
    "    \n",
    "result = sum_list([1,2,3,4,5])\n",
    "print(result) "
   ]
  },
  {
   "cell_type": "code",
   "execution_count": 11,
   "metadata": {},
   "outputs": [
    {
     "name": "stdout",
     "output_type": "stream",
     "text": [
      "6\n"
     ]
    }
   ],
   "source": [
    "## Find the GCD \n",
    "def gcd(a,b): \n",
    "    if b == 0 : # if the value of b is 0 then return a \n",
    "        return a \n",
    "    else: # return the gcd of (b and a mod(b))\n",
    "        return gcd(b,a%b) \n",
    "\n",
    "result = gcd(48,18) \n",
    "print(result) "
   ]
  },
  {
   "cell_type": "code",
   "execution_count": 12,
   "metadata": {},
   "outputs": [
    {
     "name": "stdout",
     "output_type": "stream",
     "text": [
      "abc\n",
      "acb\n",
      "bac\n",
      "bca\n",
      "cba\n",
      "cab\n"
     ]
    }
   ],
   "source": [
    "def permutations(string, start=0): \n",
    "    if start == len(string) - 1: \n",
    "        print(''.join(string))\n",
    "    else: \n",
    "        for i in range(start, len(string)): \n",
    "            string[start], string[i] = string[i], string[start]\n",
    "            permutations(string, start+1) \n",
    "            string[start], string[i] = string[i], string[start]\n",
    "\n",
    "permutations(list('abc'))\n"
   ]
  }
 ],
 "metadata": {
  "kernelspec": {
   "display_name": "base",
   "language": "python",
   "name": "python3"
  },
  "language_info": {
   "codemirror_mode": {
    "name": "ipython",
    "version": 3
   },
   "file_extension": ".py",
   "mimetype": "text/x-python",
   "name": "python",
   "nbconvert_exporter": "python",
   "pygments_lexer": "ipython3",
   "version": "3.8.8"
  }
 },
 "nbformat": 4,
 "nbformat_minor": 2
}
