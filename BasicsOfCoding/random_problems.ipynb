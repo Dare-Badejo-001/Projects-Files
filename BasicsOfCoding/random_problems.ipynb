{
 "cells": [
  {
   "cell_type": "code",
   "execution_count": null,
   "metadata": {},
   "outputs": [],
   "source": [
    "# Josephus Problem Description"
   ]
  },
  {
   "cell_type": "code",
   "execution_count": null,
   "metadata": {},
   "outputs": [],
   "source": [
    "# Solution Approach"
   ]
  },
  {
   "cell_type": "code",
   "execution_count": 1,
   "metadata": {},
   "outputs": [],
   "source": [
    "def josephus(n,k): \n",
    "    ''' \n",
    "    Create a list of the numbers from 1 to n \n",
    "    representing the people in the circle \n",
    "    '''\n",
    "    m = list( range (1, n+1))\n",
    "    '''\n",
    "    Create an empty list to store the order in which the people are eliminated \n",
    "    '''\n",
    "    ans = [] \n",
    "\n",
    "    '''\n",
    "    Intialize a variable i to keep track of the current position in the list \n",
    "    '''\n",
    "    i = 0 ; \n",
    "\n",
    "    '''\n",
    "    Loop until there are no more people left in the circle \n",
    "    '''\n",
    "\n",
    "    while  m : \n",
    "        # Calculate the indec of the person to be eliminated\n",
    "        i = ( i + k -1) % len(m) \n",
    "\n",
    "        '''pop the person from the list  and add them to the elimination order'''\n",
    "        ans.append(m.pop(i))\n",
    "    \n",
    "    return ans "
   ]
  },
  {
   "cell_type": "code",
   "execution_count": null,
   "metadata": {},
   "outputs": [],
   "source": [
    "# Reaching a point in Lattice path: \n"
   ]
  },
  {
   "cell_type": "code",
   "execution_count": null,
   "metadata": {},
   "outputs": [],
   "source": [
    "def lattice_paths(row, col, tabu): \n",
    "    '''\n",
    "    Create a 2D array with size(row+1) x (col+1) and initialize all values with zero\n",
    "    '''\n",
    "\n",
    "    paths = [[0] * (col + 1) for _ in range(row+1)]\n",
    "\n",
    "    ''' \n",
    "    Set the values of the top-left corner cell to 1, sice there is only one way to reach it \n",
    "    '''\n",
    "    paths[0][0] = 1\n",
    "\n",
    "    ''' \n",
    "    fill in the first column of the table, skipping any cells that are in the tabu list\n",
    "    '''\n",
    "    for i in range( 1 , row+1): \n",
    "        if (i,0) not in tabu: \n",
    "            paths[i][0] = paths[i-1][0] \n",
    "\n",
    "    '''fill in the first row of the table, skipping any cells that are in the tabu list''' \n",
    "    for j in range( 1, col+1): \n",
    "        if (0,j) not in tabu: \n",
    "            paths[0][j] = paths[0][j-1]\n",
    "    \n",
    "    ''' full in the rest of the table'''\n",
    "    for i in range( 1 , row+1):\n",
    "        for j in range( 1 , col+1):\n",
    "            #skip any cells that are in the tabu list \n",
    "            if (i,j) not in tabu: \n",
    "                paths[i][j] = paths[i-1][j] + paths[i][j-1] \n",
    "    \n",
    "\n",
    "    return paths[row][col]"
   ]
  },
  {
   "cell_type": "code",
   "execution_count": null,
   "metadata": {},
   "outputs": [],
   "source": [
    "# cyclops number "
   ]
  },
  {
   "cell_type": "code",
   "execution_count": 8,
   "metadata": {},
   "outputs": [
    {
     "name": "stdout",
     "output_type": "stream",
     "text": [
      "False\n",
      "True\n",
      "True\n"
     ]
    }
   ],
   "source": [
    "def cyclop_number(n): \n",
    "    digits = str(n) \n",
    "    if len(digits) %2 == 0: # check if number is even number\n",
    "        return False\n",
    "    middle_number = len(digits)//2 \n",
    "    if digits[middle_number] != '0' :  # the eyes is not 0 \n",
    "        return False \n",
    "    count = digits.count('0')\n",
    "    if count > 1 : \n",
    "        return False\n",
    "    return True \n",
    "\n",
    "print(cyclop_number(11000))\n",
    "print(cyclop_number(709))\n",
    "print(cyclop_number(41021))"
   ]
  }
 ],
 "metadata": {
  "kernelspec": {
   "display_name": "base",
   "language": "python",
   "name": "python3"
  },
  "language_info": {
   "codemirror_mode": {
    "name": "ipython",
    "version": 3
   },
   "file_extension": ".py",
   "mimetype": "text/x-python",
   "name": "python",
   "nbconvert_exporter": "python",
   "pygments_lexer": "ipython3",
   "version": "3.8.8"
  }
 },
 "nbformat": 4,
 "nbformat_minor": 2
}
