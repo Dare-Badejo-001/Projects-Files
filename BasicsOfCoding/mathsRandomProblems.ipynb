{
 "cells": [
  {
   "cell_type": "markdown",
   "metadata": {},
   "source": [
    "### Josephus Problem Description\n",
    "Josephus is a theoretical problem in computer science. The problem involves a group of people standing in a circle, awaiting execution. \n",
    "After the first person is executed, a certain number of people are skipped, and another person is executed. This process of\n",
    "execution continues around the circle until only one person remains. \n",
    "The individuals who have been executed are not included in the removal process, and the last person standing does not take their own life. \n",
    "The objective is to develop a function that, given values for n and k, returns the order in which the individuals will be executed.\n",
    "Here, n represents the total number of people, and k represents the number of skips. It is important to note that k can be smaller than, equal to, or even greater than n."
   ]
  },
  {
   "cell_type": "markdown",
   "metadata": {},
   "source": [
    "### Solution Approach\n",
    "1. It takes two values n and k.\n",
    "2. Create a list named m that contains all the numbers from 1 to n.\n",
    "3. Create an empty list named ans to store the output.\n",
    "4. Set the variable i to 0.\n",
    "5. Create a while loop that will continue until the list ‘m’ becomes empty.\n",
    "6. Within the while loop, by utilizing Eq. 3.1, update i by adding k to it and subtract-\n",
    "ing 1. Then take the modulo of the length of m to ensure that i remains within the\n",
    "bounds of the list.\n",
    "7. Use the pop method on the m list to remove the element at index i and append it\n",
    "to the ans list.\n",
    "8. Return the ans list as the output of the function."
   ]
  },
  {
   "cell_type": "code",
   "execution_count": 1,
   "metadata": {},
   "outputs": [],
   "source": [
    "def josephus(n,k): \n",
    "    ''' \n",
    "    Create a list of the numbers from 1 to n \n",
    "    representing the people in the circle \n",
    "    '''\n",
    "    m = list( range (1, n+1))\n",
    "    '''\n",
    "    Create an empty list to store the order in which the people are eliminated \n",
    "    '''\n",
    "    ans = [] \n",
    "\n",
    "    '''\n",
    "    Intialize a variable i to keep track of the current position in the list \n",
    "    '''\n",
    "    i = 0 ; \n",
    "\n",
    "    '''\n",
    "    Loop until there are no more people left in the circle \n",
    "    '''\n",
    "\n",
    "    while  m : \n",
    "        # Calculate the indec of the person to be eliminated\n",
    "        i = ( i + k -1) % len(m) \n",
    "\n",
    "        '''pop the person from the list  and add them to the elimination order'''\n",
    "        ans.append(m.pop(i))\n",
    "    \n",
    "    return ans "
   ]
  },
  {
   "cell_type": "code",
   "execution_count": null,
   "metadata": {},
   "outputs": [],
   "source": [
    "# Reaching a point in Lattice path: \n"
   ]
  },
  {
   "cell_type": "code",
   "execution_count": null,
   "metadata": {},
   "outputs": [],
   "source": [
    "def lattice_paths(row, col, tabu): \n",
    "    '''\n",
    "    Create a 2D array with size(row+1) x (col+1) and initialize all values with zero\n",
    "    '''\n",
    "\n",
    "    paths = [[0] * (col + 1) for _ in range(row+1)]\n",
    "\n",
    "    ''' \n",
    "    Set the values of the top-left corner cell to 1, sice there is only one way to reach it \n",
    "    '''\n",
    "    paths[0][0] = 1\n",
    "\n",
    "    ''' \n",
    "    fill in the first column of the table, skipping any cells that are in the tabu list\n",
    "    '''\n",
    "    for i in range( 1 , row+1): \n",
    "        if (i,0) not in tabu: \n",
    "            paths[i][0] = paths[i-1][0] \n",
    "\n",
    "    '''fill in the first row of the table, skipping any cells that are in the tabu list''' \n",
    "    for j in range( 1, col+1): \n",
    "        if (0,j) not in tabu: \n",
    "            paths[0][j] = paths[0][j-1]\n",
    "    \n",
    "    ''' full in the rest of the table'''\n",
    "    for i in range( 1 , row+1):\n",
    "        for j in range( 1 , col+1):\n",
    "            #skip any cells that are in the tabu list \n",
    "            if (i,j) not in tabu: \n",
    "                paths[i][j] = paths[i-1][j] + paths[i][j-1] \n",
    "    \n",
    "\n",
    "    return paths[row][col]"
   ]
  },
  {
   "cell_type": "code",
   "execution_count": null,
   "metadata": {},
   "outputs": [],
   "source": [
    "# cyclops number "
   ]
  },
  {
   "cell_type": "code",
   "execution_count": 8,
   "metadata": {},
   "outputs": [
    {
     "name": "stdout",
     "output_type": "stream",
     "text": [
      "False\n",
      "True\n",
      "True\n"
     ]
    }
   ],
   "source": [
    "def cyclop_number(n): \n",
    "    digits = str(n) \n",
    "    if len(digits) %2 == 0: # check if number is even number\n",
    "        return False\n",
    "    middle_number = len(digits)//2 \n",
    "    if digits[middle_number] != '0' :  # the eyes is not 0 \n",
    "        return False \n",
    "    count = digits.count('0')\n",
    "    if count > 1 : \n",
    "        return False\n",
    "    return True \n",
    "\n",
    "print(cyclop_number(11000))\n",
    "print(cyclop_number(709))\n",
    "print(cyclop_number(41021))"
   ]
  },
  {
   "cell_type": "markdown",
   "metadata": {},
   "source": [
    "#### Computing the rectangulaer towers in Manhattan Skyline \n",
    "There is a list of rectangular towers as (s, e, h), where s, e, and h are a start, end, and\n",
    "height in the x-coordinate, respectively. Write a python function that as input, takes\n",
    "tuple (s, e, h), and as an output, returns the area of the rectangular towers"
   ]
  },
  {
   "cell_type": "markdown",
   "metadata": {},
   "source": [
    "### Algorithms \n",
    "To compute the area of the given towers, two algorithms are employed: ‘divide’ and\n",
    "‘Manhattan_Skyline’. The algorithm ‘divide’ has the following steps:\n",
    "1. It takes two parameters, star t and end. If star t equals end, return a list containing two elements: [tower s[star t][0], tower s[star t][2]] and [tower s[star t] [1], 0].\n",
    "2. Otherwise, calculate the midpoint between star t and end, and recursively call the left and right halves of the towers list. Merge the results from the left and right halves into a new list using the following steps:\n",
    "- Compute the mid position\n",
    "-  Initialize an empty list called ‘merged’, and two variables i and j to 0.\n",
    "-  Set h1 and h2 variables to None.\n",
    "- Loop over every element in the merged list by iterating over the range of len(left) + len(right).\n",
    "- If i is greater than or equal to the length of left, append a list containing [right[j][0], right[j][1] if h1 is None else max(h1, right[j][1])] to merged, increment j by 1, and continue the loop.\n",
    "- If j is greater than or equal to the length of right, append a list containing [left[i][0], left[i][1] if h2 is None else max(h2, left[i][1])] to merged, increment i by 1, and continue the loop.\n",
    "- If the x-coordinate of the left element at index i is less than or equal to the x-coordinate of the right element at index j, append a list containing [left[i][0], left[i][1] if h2 is None else max(h2, left[i][1])] to merged, set h1 to the y- coordinate of the left element at index i, and increment i by 1.\n",
    "- Otherwise, append [right[j][0], right[j][1] to merged if h1 is None else max(h1, right[j][1])] to merged, set h2 to the y-coordinate of the right element at index j, and increment j by 1.\n",
    "\n",
    "3. Return the merged list."
   ]
  },
  {
   "cell_type": "code",
   "execution_count": null,
   "metadata": {},
   "outputs": [],
   "source": [
    "def rectangular_towers_in_manhattan_skylune(towers): \n",
    "    ''' we write the divide and conquer function to computes the skyline for a given range ot towers\n",
    "    '''\n",
    "\n",
    "    def divide_and_conquer(start,end): \n",
    "\n",
    "        if start == end: \n",
    "            return [ [ towers[start][0], \n",
    "                       towers[start][2],\n",
    "                       towers[start][1], 0]]\n",
    "        \n",
    "        mid = (start + end) // 2 \n",
    "        left = divide_and_conquer(start, mid) \n",
    "        right = divide_and_conquer(mid+1, end) \n"
   ]
  },
  {
   "cell_type": "code",
   "execution_count": 1,
   "metadata": {},
   "outputs": [],
   "source": [
    "from pycaret.regression import * "
   ]
  },
  {
   "cell_type": "code",
   "execution_count": null,
   "metadata": {},
   "outputs": [],
   "source": []
  },
  {
   "cell_type": "code",
   "execution_count": null,
   "metadata": {},
   "outputs": [],
   "source": []
  },
  {
   "cell_type": "code",
   "execution_count": null,
   "metadata": {},
   "outputs": [],
   "source": []
  },
  {
   "cell_type": "code",
   "execution_count": null,
   "metadata": {},
   "outputs": [],
   "source": []
  }
 ],
 "metadata": {
  "kernelspec": {
   "display_name": "base",
   "language": "python",
   "name": "python3"
  },
  "language_info": {
   "codemirror_mode": {
    "name": "ipython",
    "version": 3
   },
   "file_extension": ".py",
   "mimetype": "text/x-python",
   "name": "python",
   "nbconvert_exporter": "python",
   "pygments_lexer": "ipython3",
   "version": "3.10.14"
  }
 },
 "nbformat": 4,
 "nbformat_minor": 2
}
