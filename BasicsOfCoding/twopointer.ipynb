{
 "cells": [
  {
   "cell_type": "code",
   "execution_count": null,
   "metadata": {},
   "outputs": [],
   "source": [
    "# this approach is used to solve problems in arrays and linkedList \n",
    "# It involves using two pointers that typically move at different speeds through the data structure to solve the problem\n",
    "# I will solve 10 examples to show its effectiveness "
   ]
  },
  {
   "cell_type": "markdown",
   "metadata": {},
   "source": [
    "##### Problem One (Two sum problems): Given an array of integers that is already sorted in ascending order, find two numbers such that they add up to a specific target number.\n",
    "\n",
    "\n",
    "\n",
    "##### I am using the two sums because the arrays are sorted, else I will stick with the hash table/ dictionary."
   ]
  },
  {
   "cell_type": "code",
   "execution_count": null,
   "metadata": {},
   "outputs": [],
   "source": [
    "def twoSums(nums, target): \n",
    "    left , right = 0 , len(nums) - 1 \n",
    "    while left < right : \n",
    "        total = nums[left] + nums[right]\n",
    "        if total == target: \n",
    "            return [left + 1, right + 1]\n",
    "        elif total < target: \n",
    "            left += 1 \n",
    "        else: \n",
    "            right -= 1"
   ]
  },
  {
   "cell_type": "code",
   "execution_count": null,
   "metadata": {},
   "outputs": [],
   "source": [
    "# Example usage:\n",
    "nums = [2, 7, 11, 15]\n",
    "target = 9\n",
    "print(twoSums(nums, target))  # Output: [1, 2]"
   ]
  },
  {
   "cell_type": "markdown",
   "metadata": {},
   "source": [
    "Example II: Container with the most water \n",
    "Given n non-negative integers representing the height of the wall at each index, find the maximum area of water that can be trapped between the walls."
   ]
  },
  {
   "cell_type": "code",
   "execution_count": null,
   "metadata": {},
   "outputs": [],
   "source": [
    "def maxArea(height): \n",
    "    max_area = 0 \n",
    "    left, right = 0 , len(height) - 1 \n",
    "\n",
    "    while left < right : \n",
    "        width = right - left \n",
    "        h = min(height[left], height[right])\n",
    "        max_area = max(max_area, width * h)\n",
    "\n",
    "        if height[left] < height[right]: \n",
    "            left += 1\n",
    "        else: \n",
    "            right -= 1 \n",
    "        \n",
    "    return max_area "
   ]
  },
  {
   "cell_type": "code",
   "execution_count": null,
   "metadata": {},
   "outputs": [],
   "source": [
    "# Example usage:\n",
    "height = [1, 8, 6, 2, 5, 4, 8, 3, 7]\n",
    "print(max_area(height))  # Output: 49"
   ]
  },
  {
   "cell_type": "markdown",
   "metadata": {},
   "source": [
    "Example 3: Reverse String\n",
    "Problem Statement:\n",
    "Write a function that reverses a string in-place."
   ]
  },
  {
   "cell_type": "code",
   "execution_count": null,
   "metadata": {},
   "outputs": [],
   "source": [
    "def reverse_string(s): \n",
    "    left , right = 0 , len(s) - 1 \n",
    "\n",
    "    while left < right: \n",
    "        s[left], s[right] = s[right], s[left]\n",
    "        left += 1 \n",
    "        right -=1 \n",
    "    "
   ]
  },
  {
   "cell_type": "code",
   "execution_count": null,
   "metadata": {},
   "outputs": [],
   "source": [
    "# Example usage:\n",
    "s = [\"h\", \"e\", \"l\", \"l\", \"o\"]\n",
    "reverse_string(s)\n",
    "print(s)  # Output: ['o', 'l', 'l', 'e', 'h']"
   ]
  },
  {
   "cell_type": "markdown",
   "metadata": {},
   "source": [
    "Example 4: Remove Duplicates from Sorted Array\n",
    "Problem Statement:\n",
    "Given a sorted array nums, remove the duplicates in-place such that each element appears only once and returns the new length."
   ]
  },
  {
   "cell_type": "code",
   "execution_count": null,
   "metadata": {},
   "outputs": [],
   "source": [
    "def removeDuplicates(nums): \n",
    "    if len(nums) == 0: \n",
    "        return 0 \n",
    "    \n",
    "    slow = 0 \n",
    "    for fast in range( 1, len(nums)): \n",
    "        if nums[fast] != nums[slow] \n",
    "        slow += 1 \n",
    "        nums[slow] = nums[fast]\n",
    "    \n",
    "    return slow + 1 \n"
   ]
  },
  {
   "cell_type": "code",
   "execution_count": null,
   "metadata": {},
   "outputs": [],
   "source": [
    "# Example usage:\n",
    "nums = [0, 0, 1, 1, 1, 2, 2, 3, 3, 4]\n",
    "print(removeDuplicates(nums))  # Output: 5"
   ]
  },
  {
   "cell_type": "markdown",
   "metadata": {},
   "source": [
    "Example 5: Move Zeroes\n",
    "Problem Statement:\n",
    "Given an array nums, write a function to move all 0's to the end of it while maintaining the relative order of the non-zero elements."
   ]
  },
  {
   "cell_type": "code",
   "execution_count": null,
   "metadata": {},
   "outputs": [],
   "source": [
    "def moveZeros(nums): \n",
    "    if not nums: \n",
    "        return \n",
    "    \n",
    "    left = 0 \n",
    "\n",
    "    for right in range(len(nums)) : \n",
    "        if nums[right] != 0 : \n",
    "            nums[left] , nums[right] = nums[right], nums[left]\n",
    "            left += 1"
   ]
  },
  {
   "cell_type": "code",
   "execution_count": null,
   "metadata": {},
   "outputs": [],
   "source": [
    "# Example usage:\n",
    "nums = [0, 1, 0, 3, 12]\n",
    "moveZeros(nums)\n",
    "print(nums)  # Output: [1, 3, 12, 0, 0]"
   ]
  },
  {
   "cell_type": "markdown",
   "metadata": {},
   "source": [
    "Problem Statement:\n",
    "Given head, the head of a linked list, determine if the linked list has a cycle in it. There is a cycle in a linked list if there is some node in the list that can be reached again by continuously following the next pointer. Return true if there is a cycle, otherwise, return false."
   ]
  },
  {
   "cell_type": "code",
   "execution_count": null,
   "metadata": {},
   "outputs": [],
   "source": [
    "class ListNode:\n",
    "    def __init__(self, val=0, next=None):\n",
    "        self.val = val\n",
    "        self.next = next\n",
    "\n",
    "def hasCycle(head): \n",
    "    if not head or not head.next : \n",
    "        return False \n",
    "    \n",
    "    slow = head \n",
    "    fast = head.next \n",
    "\n",
    "    while fast and fast.next : \n",
    "        if slow == fast : \n",
    "            return True \n",
    "        slow = slow.next \n",
    "        fast = fast.next.next \n",
    "\n",
    "    return False \n",
    "\n"
   ]
  },
  {
   "cell_type": "code",
   "execution_count": null,
   "metadata": {},
   "outputs": [],
   "source": [
    "head = ListNode(3)\n",
    "head.next = ListNode(2)\n",
    "head.next.next = ListNode(0)\n",
    "head.next.next.next = ListNode(-4)\n",
    "head.next.next.next.next = head.next  # Creating a cycle\n",
    "\n",
    "print(hasCycle(head))  # Output: True"
   ]
  },
  {
   "cell_type": "markdown",
   "metadata": {},
   "source": [
    "Example 7: Valid Palindrome\n",
    "Problem Statement:\n",
    "Given a string s, determine if it is a palindrome, considering only alphanumeric characters and ignoring cases."
   ]
  },
  {
   "cell_type": "code",
   "execution_count": null,
   "metadata": {},
   "outputs": [],
   "source": [
    "def isPalindrome(s): \n",
    "    left , right = 0 , len(s) -1 \n",
    "\n",
    "    while left < right : \n",
    "        while left < right and not s[left].isalnum(): \n",
    "            left += 1 \n",
    "        while left < right and not s[right].isalnum(): \n",
    "            right -= 1 \n",
    "\n",
    "        if s[left].lower() != s[right].lower():\n",
    "            return False"
   ]
  },
  {
   "cell_type": "code",
   "execution_count": null,
   "metadata": {},
   "outputs": [],
   "source": [
    "# Example usage:\n",
    "s = \"A man, a plan, a canal: Panama\"\n",
    "print(isPalindrome(s))  # Output: True"
   ]
  },
  {
   "cell_type": "markdown",
   "metadata": {},
   "source": [
    "Example 8: Squares of a Sorted Array\n",
    "Problem Statement:\n",
    "Given an integer array nums sorted in non-decreasing order, return an array of the squares of each number sorted in non-decreasing order."
   ]
  },
  {
   "cell_type": "code",
   "execution_count": null,
   "metadata": {},
   "outputs": [],
   "source": [
    "def sorted_squares(nums):\n",
    "    n = len(nums)\n",
    "    result = [0] * n\n",
    "    left, right = 0, n - 1\n",
    "    index = n - 1\n",
    "    \n",
    "    while left <= right:\n",
    "        left_square = nums[left] ** 2\n",
    "        right_square = nums[right] ** 2\n",
    "        \n",
    "        if left_square > right_square:\n",
    "            result[index] = left_square\n",
    "            left += 1\n",
    "        else:\n",
    "            result[index] = right_square\n",
    "            right -= 1\n",
    "        index -= 1\n",
    "        \n",
    "    return result"
   ]
  },
  {
   "cell_type": "code",
   "execution_count": null,
   "metadata": {},
   "outputs": [],
   "source": [
    "# Example usage:\n",
    "nums = [-4, -1, 0, 3, 10]\n",
    "print(sorted_squares(nums))  # Output: [0, 1, 9, 16, 100]"
   ]
  },
  {
   "cell_type": "markdown",
   "metadata": {},
   "source": [
    "Problem Statement:\n",
    "Given n non-negative integers representing an elevation map where the width of each bar is 1, compute how much water it can trap after raining."
   ]
  },
  {
   "cell_type": "code",
   "execution_count": null,
   "metadata": {},
   "outputs": [],
   "source": [
    "def trap(height): \n",
    "    if not height: \n",
    "        return 0 \n",
    "    left , right = 0 , len(height)-1 \n",
    "    left_max , right_max = height[left], height[right] \n",
    "    water = 0 \n",
    "\n",
    "    while left < right : \n",
    "        if height[left] < height[right]:\n",
    "            if height[left] >= left_max: \n",
    "                left_max = height[left] \n",
    "            else: \n",
    "                water += left_max - height[left]\n",
    "\n",
    "            left += 1 \n",
    "\n",
    "        else: \n",
    "            if height[right] >= right_max : \n",
    "                right_max = height[right] \n",
    "            else: \n",
    "                water += right_max - height[right]\n",
    "            right -= 1 \n",
    "    return water "
   ]
  },
  {
   "cell_type": "code",
   "execution_count": null,
   "metadata": {},
   "outputs": [],
   "source": [
    "# Example usage:\n",
    "height = [0,1,0,2,1,0,1,3,2,1,2,1]\n",
    "print(trap(height))  # Output: 6"
   ]
  },
  {
   "cell_type": "code",
   "execution_count": null,
   "metadata": {},
   "outputs": [],
   "source": []
  },
  {
   "cell_type": "markdown",
   "metadata": {},
   "source": []
  }
 ],
 "metadata": {
  "kernelspec": {
   "display_name": "Python 3",
   "language": "python",
   "name": "python3"
  },
  "language_info": {
   "name": "python",
   "version": "3.8.8"
  }
 },
 "nbformat": 4,
 "nbformat_minor": 2
}
